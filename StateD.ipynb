{
 "cells": [
  {
   "cell_type": "code",
   "execution_count": 4,
   "id": "f1ff13e7",
   "metadata": {},
   "outputs": [],
   "source": [
    "import pandas as pd\n",
    "import numpy as np\n",
    "import matplotlib.pyplot as plt\n",
    "import seaborn as sns\n",
    "%matplotlib inline\n",
    "from sklearn.model_selection import train_test_split\n",
    "from sklearn import linear_model\n",
    "from sklearn.metrics import r2_score\n",
    "from sklearn.linear_model import LogisticRegression\n",
    "from sklearn.metrics import confusion_matrix, accuracy_score\n",
    "from sklearn.feature_selection import RFE"
   ]
  },
  {
   "cell_type": "code",
   "execution_count": 5,
   "id": "83448369",
   "metadata": {},
   "outputs": [],
   "source": [
    "CovidDeath = pd.read_csv(\"AUDEATHS.csv\")"
   ]
  },
  {
   "cell_type": "code",
   "execution_count": 6,
   "id": "ebd15a0a",
   "metadata": {},
   "outputs": [
    {
     "data": {
      "text/html": [
       "<div>\n",
       "<style scoped>\n",
       "    .dataframe tbody tr th:only-of-type {\n",
       "        vertical-align: middle;\n",
       "    }\n",
       "\n",
       "    .dataframe tbody tr th {\n",
       "        vertical-align: top;\n",
       "    }\n",
       "\n",
       "    .dataframe thead th {\n",
       "        text-align: right;\n",
       "    }\n",
       "</style>\n",
       "<table border=\"1\" class=\"dataframe\">\n",
       "  <thead>\n",
       "    <tr style=\"text-align: right;\">\n",
       "      <th></th>\n",
       "      <th>Date</th>\n",
       "      <th>State</th>\n",
       "      <th>Age</th>\n",
       "      <th>Age bracket</th>\n",
       "      <th>Gender</th>\n",
       "      <th>Place</th>\n",
       "      <th>Transmission type</th>\n",
       "      <th>Transmission source</th>\n",
       "      <th>Co-morbidities</th>\n",
       "      <th>National toll number</th>\n",
       "      <th>State-reported toll - NSW</th>\n",
       "      <th>Fed reported state toll - NSW</th>\n",
       "      <th>State-reported toll - VIC</th>\n",
       "      <th>State-reported toll - QLD</th>\n",
       "    </tr>\n",
       "  </thead>\n",
       "  <tbody>\n",
       "    <tr>\n",
       "      <th>0</th>\n",
       "      <td>01/03/20</td>\n",
       "      <td>WA</td>\n",
       "      <td>78.0</td>\n",
       "      <td>70s</td>\n",
       "      <td>Male</td>\n",
       "      <td>Perth</td>\n",
       "      <td>Overseas (cruise ship)</td>\n",
       "      <td>Cruise ship (Diamond Princess)</td>\n",
       "      <td>NaN</td>\n",
       "      <td>1</td>\n",
       "      <td>NaN</td>\n",
       "      <td>NaN</td>\n",
       "      <td>NaN</td>\n",
       "      <td>NaN</td>\n",
       "    </tr>\n",
       "    <tr>\n",
       "      <th>1</th>\n",
       "      <td>04/03/20</td>\n",
       "      <td>NSW</td>\n",
       "      <td>95.0</td>\n",
       "      <td>90s</td>\n",
       "      <td>Female</td>\n",
       "      <td>Macquarie Park, Sydney</td>\n",
       "      <td>Local - Known Contact</td>\n",
       "      <td>Dorothy Henderson Lodge aged care facility</td>\n",
       "      <td>NaN</td>\n",
       "      <td>2</td>\n",
       "      <td>1</td>\n",
       "      <td>1</td>\n",
       "      <td>NaN</td>\n",
       "      <td>NaN</td>\n",
       "    </tr>\n",
       "    <tr>\n",
       "      <th>2</th>\n",
       "      <td>08/03/20</td>\n",
       "      <td>NSW</td>\n",
       "      <td>82.0</td>\n",
       "      <td>80s</td>\n",
       "      <td>Male</td>\n",
       "      <td>NaN</td>\n",
       "      <td>NaN</td>\n",
       "      <td>NaN</td>\n",
       "      <td>NaN</td>\n",
       "      <td>3</td>\n",
       "      <td>2</td>\n",
       "      <td>2</td>\n",
       "      <td>NaN</td>\n",
       "      <td>NaN</td>\n",
       "    </tr>\n",
       "    <tr>\n",
       "      <th>3</th>\n",
       "      <td>13/03/20</td>\n",
       "      <td>QLD</td>\n",
       "      <td>77.0</td>\n",
       "      <td>70s</td>\n",
       "      <td>Female</td>\n",
       "      <td>Sunshine Coast woman</td>\n",
       "      <td>Local - Known Contact</td>\n",
       "      <td>Local - Known Contact</td>\n",
       "      <td>Yes</td>\n",
       "      <td>4</td>\n",
       "      <td>NaN</td>\n",
       "      <td>NaN</td>\n",
       "      <td>NaN</td>\n",
       "      <td>1 (QLD - Died in Sydney)</td>\n",
       "    </tr>\n",
       "    <tr>\n",
       "      <th>4</th>\n",
       "      <td>15/03/20</td>\n",
       "      <td>NSW</td>\n",
       "      <td>77.0</td>\n",
       "      <td>70s</td>\n",
       "      <td>Female</td>\n",
       "      <td>Sydney</td>\n",
       "      <td>Overseas</td>\n",
       "      <td>NaN</td>\n",
       "      <td>NaN</td>\n",
       "      <td>6</td>\n",
       "      <td>3</td>\n",
       "      <td>3</td>\n",
       "      <td>NaN</td>\n",
       "      <td>NaN</td>\n",
       "    </tr>\n",
       "    <tr>\n",
       "      <th>...</th>\n",
       "      <td>...</td>\n",
       "      <td>...</td>\n",
       "      <td>...</td>\n",
       "      <td>...</td>\n",
       "      <td>...</td>\n",
       "      <td>...</td>\n",
       "      <td>...</td>\n",
       "      <td>...</td>\n",
       "      <td>...</td>\n",
       "      <td>...</td>\n",
       "      <td>...</td>\n",
       "      <td>...</td>\n",
       "      <td>...</td>\n",
       "      <td>...</td>\n",
       "    </tr>\n",
       "    <tr>\n",
       "      <th>1402</th>\n",
       "      <td>08/10/21</td>\n",
       "      <td>NSW</td>\n",
       "      <td>NaN</td>\n",
       "      <td>NaN</td>\n",
       "      <td>NaN</td>\n",
       "      <td>NaN</td>\n",
       "      <td>NaN</td>\n",
       "      <td>NaN</td>\n",
       "      <td>NaN</td>\n",
       "      <td>NaN</td>\n",
       "      <td>NaN</td>\n",
       "      <td>NaN</td>\n",
       "      <td>NaN</td>\n",
       "      <td>NaN</td>\n",
       "    </tr>\n",
       "    <tr>\n",
       "      <th>1403</th>\n",
       "      <td>08/10/21</td>\n",
       "      <td>NSW</td>\n",
       "      <td>NaN</td>\n",
       "      <td>NaN</td>\n",
       "      <td>NaN</td>\n",
       "      <td>NaN</td>\n",
       "      <td>NaN</td>\n",
       "      <td>NaN</td>\n",
       "      <td>NaN</td>\n",
       "      <td>NaN</td>\n",
       "      <td>NaN</td>\n",
       "      <td>NaN</td>\n",
       "      <td>NaN</td>\n",
       "      <td>NaN</td>\n",
       "    </tr>\n",
       "    <tr>\n",
       "      <th>1404</th>\n",
       "      <td>08/10/21</td>\n",
       "      <td>NSW</td>\n",
       "      <td>NaN</td>\n",
       "      <td>NaN</td>\n",
       "      <td>NaN</td>\n",
       "      <td>NaN</td>\n",
       "      <td>NaN</td>\n",
       "      <td>NaN</td>\n",
       "      <td>NaN</td>\n",
       "      <td>NaN</td>\n",
       "      <td>NaN</td>\n",
       "      <td>NaN</td>\n",
       "      <td>NaN</td>\n",
       "      <td>NaN</td>\n",
       "    </tr>\n",
       "    <tr>\n",
       "      <th>1405</th>\n",
       "      <td>08/10/21</td>\n",
       "      <td>NSW</td>\n",
       "      <td>NaN</td>\n",
       "      <td>NaN</td>\n",
       "      <td>NaN</td>\n",
       "      <td>NaN</td>\n",
       "      <td>NaN</td>\n",
       "      <td>NaN</td>\n",
       "      <td>NaN</td>\n",
       "      <td>NaN</td>\n",
       "      <td>NaN</td>\n",
       "      <td>NaN</td>\n",
       "      <td>NaN</td>\n",
       "      <td>NaN</td>\n",
       "    </tr>\n",
       "    <tr>\n",
       "      <th>1406</th>\n",
       "      <td>08/10/21</td>\n",
       "      <td>NSW</td>\n",
       "      <td>NaN</td>\n",
       "      <td>NaN</td>\n",
       "      <td>NaN</td>\n",
       "      <td>NaN</td>\n",
       "      <td>NaN</td>\n",
       "      <td>NaN</td>\n",
       "      <td>NaN</td>\n",
       "      <td>NaN</td>\n",
       "      <td>NaN</td>\n",
       "      <td>NaN</td>\n",
       "      <td>NaN</td>\n",
       "      <td>NaN</td>\n",
       "    </tr>\n",
       "  </tbody>\n",
       "</table>\n",
       "<p>1407 rows × 14 columns</p>\n",
       "</div>"
      ],
      "text/plain": [
       "          Date State   Age Age bracket  Gender                   Place  \\\n",
       "0     01/03/20    WA  78.0         70s    Male                   Perth   \n",
       "1     04/03/20   NSW  95.0         90s  Female  Macquarie Park, Sydney   \n",
       "2     08/03/20   NSW  82.0         80s    Male                     NaN   \n",
       "3     13/03/20   QLD  77.0         70s  Female    Sunshine Coast woman   \n",
       "4     15/03/20   NSW  77.0         70s  Female                  Sydney   \n",
       "...        ...   ...   ...         ...     ...                     ...   \n",
       "1402  08/10/21   NSW   NaN         NaN     NaN                     NaN   \n",
       "1403  08/10/21   NSW   NaN         NaN     NaN                     NaN   \n",
       "1404  08/10/21   NSW   NaN         NaN     NaN                     NaN   \n",
       "1405  08/10/21   NSW   NaN         NaN     NaN                     NaN   \n",
       "1406  08/10/21   NSW   NaN         NaN     NaN                     NaN   \n",
       "\n",
       "           Transmission type                         Transmission source  \\\n",
       "0     Overseas (cruise ship)              Cruise ship (Diamond Princess)   \n",
       "1      Local - Known Contact  Dorothy Henderson Lodge aged care facility   \n",
       "2                        NaN                                         NaN   \n",
       "3      Local - Known Contact                       Local - Known Contact   \n",
       "4                   Overseas                                         NaN   \n",
       "...                      ...                                         ...   \n",
       "1402                     NaN                                         NaN   \n",
       "1403                     NaN                                         NaN   \n",
       "1404                     NaN                                         NaN   \n",
       "1405                     NaN                                         NaN   \n",
       "1406                     NaN                                         NaN   \n",
       "\n",
       "     Co-morbidities National toll number State-reported toll - NSW  \\\n",
       "0               NaN                    1                       NaN   \n",
       "1               NaN                    2                         1   \n",
       "2               NaN                    3                         2   \n",
       "3               Yes                    4                       NaN   \n",
       "4               NaN                    6                         3   \n",
       "...             ...                  ...                       ...   \n",
       "1402            NaN                  NaN                       NaN   \n",
       "1403            NaN                  NaN                       NaN   \n",
       "1404            NaN                  NaN                       NaN   \n",
       "1405            NaN                  NaN                       NaN   \n",
       "1406            NaN                  NaN                       NaN   \n",
       "\n",
       "     Fed reported state toll - NSW State-reported toll - VIC  \\\n",
       "0                              NaN                       NaN   \n",
       "1                                1                       NaN   \n",
       "2                                2                       NaN   \n",
       "3                              NaN                       NaN   \n",
       "4                                3                       NaN   \n",
       "...                            ...                       ...   \n",
       "1402                           NaN                       NaN   \n",
       "1403                           NaN                       NaN   \n",
       "1404                           NaN                       NaN   \n",
       "1405                           NaN                       NaN   \n",
       "1406                           NaN                       NaN   \n",
       "\n",
       "     State-reported toll - QLD  \n",
       "0                          NaN  \n",
       "1                          NaN  \n",
       "2                          NaN  \n",
       "3     1 (QLD - Died in Sydney)  \n",
       "4                          NaN  \n",
       "...                        ...  \n",
       "1402                       NaN  \n",
       "1403                       NaN  \n",
       "1404                       NaN  \n",
       "1405                       NaN  \n",
       "1406                       NaN  \n",
       "\n",
       "[1407 rows x 14 columns]"
      ]
     },
     "execution_count": 6,
     "metadata": {},
     "output_type": "execute_result"
    }
   ],
   "source": [
    "CovidDeath"
   ]
  },
  {
   "cell_type": "code",
   "execution_count": 29,
   "id": "5acebf16",
   "metadata": {},
   "outputs": [
    {
     "name": "stdout",
     "output_type": "stream",
     "text": [
      "(1407, 14)\n"
     ]
    }
   ],
   "source": [
    "print(CovidDeath.shape)"
   ]
  },
  {
   "cell_type": "code",
   "execution_count": 7,
   "id": "31d67950",
   "metadata": {},
   "outputs": [
    {
     "data": {
      "text/html": [
       "<div>\n",
       "<style scoped>\n",
       "    .dataframe tbody tr th:only-of-type {\n",
       "        vertical-align: middle;\n",
       "    }\n",
       "\n",
       "    .dataframe tbody tr th {\n",
       "        vertical-align: top;\n",
       "    }\n",
       "\n",
       "    .dataframe thead th {\n",
       "        text-align: right;\n",
       "    }\n",
       "</style>\n",
       "<table border=\"1\" class=\"dataframe\">\n",
       "  <thead>\n",
       "    <tr style=\"text-align: right;\">\n",
       "      <th></th>\n",
       "      <th>Date</th>\n",
       "      <th>State</th>\n",
       "      <th>Age</th>\n",
       "      <th>Age bracket</th>\n",
       "      <th>Gender</th>\n",
       "      <th>Place</th>\n",
       "      <th>Transmission type</th>\n",
       "      <th>Transmission source</th>\n",
       "      <th>Co-morbidities</th>\n",
       "      <th>National toll number</th>\n",
       "      <th>State-reported toll - NSW</th>\n",
       "      <th>Fed reported state toll - NSW</th>\n",
       "      <th>State-reported toll - VIC</th>\n",
       "      <th>State-reported toll - QLD</th>\n",
       "    </tr>\n",
       "  </thead>\n",
       "  <tbody>\n",
       "    <tr>\n",
       "      <th>0</th>\n",
       "      <td>01/03/20</td>\n",
       "      <td>WA</td>\n",
       "      <td>78.0</td>\n",
       "      <td>70s</td>\n",
       "      <td>Male</td>\n",
       "      <td>Perth</td>\n",
       "      <td>Overseas (cruise ship)</td>\n",
       "      <td>Cruise ship (Diamond Princess)</td>\n",
       "      <td>NaN</td>\n",
       "      <td>1</td>\n",
       "      <td>NaN</td>\n",
       "      <td>NaN</td>\n",
       "      <td>NaN</td>\n",
       "      <td>NaN</td>\n",
       "    </tr>\n",
       "    <tr>\n",
       "      <th>1</th>\n",
       "      <td>04/03/20</td>\n",
       "      <td>NSW</td>\n",
       "      <td>95.0</td>\n",
       "      <td>90s</td>\n",
       "      <td>Female</td>\n",
       "      <td>Macquarie Park, Sydney</td>\n",
       "      <td>Local - Known Contact</td>\n",
       "      <td>Dorothy Henderson Lodge aged care facility</td>\n",
       "      <td>NaN</td>\n",
       "      <td>2</td>\n",
       "      <td>1</td>\n",
       "      <td>1</td>\n",
       "      <td>NaN</td>\n",
       "      <td>NaN</td>\n",
       "    </tr>\n",
       "    <tr>\n",
       "      <th>2</th>\n",
       "      <td>08/03/20</td>\n",
       "      <td>NSW</td>\n",
       "      <td>82.0</td>\n",
       "      <td>80s</td>\n",
       "      <td>Male</td>\n",
       "      <td>NaN</td>\n",
       "      <td>NaN</td>\n",
       "      <td>NaN</td>\n",
       "      <td>NaN</td>\n",
       "      <td>3</td>\n",
       "      <td>2</td>\n",
       "      <td>2</td>\n",
       "      <td>NaN</td>\n",
       "      <td>NaN</td>\n",
       "    </tr>\n",
       "    <tr>\n",
       "      <th>3</th>\n",
       "      <td>13/03/20</td>\n",
       "      <td>QLD</td>\n",
       "      <td>77.0</td>\n",
       "      <td>70s</td>\n",
       "      <td>Female</td>\n",
       "      <td>Sunshine Coast woman</td>\n",
       "      <td>Local - Known Contact</td>\n",
       "      <td>Local - Known Contact</td>\n",
       "      <td>Yes</td>\n",
       "      <td>4</td>\n",
       "      <td>NaN</td>\n",
       "      <td>NaN</td>\n",
       "      <td>NaN</td>\n",
       "      <td>1 (QLD - Died in Sydney)</td>\n",
       "    </tr>\n",
       "    <tr>\n",
       "      <th>4</th>\n",
       "      <td>15/03/20</td>\n",
       "      <td>NSW</td>\n",
       "      <td>77.0</td>\n",
       "      <td>70s</td>\n",
       "      <td>Female</td>\n",
       "      <td>Sydney</td>\n",
       "      <td>Overseas</td>\n",
       "      <td>NaN</td>\n",
       "      <td>NaN</td>\n",
       "      <td>6</td>\n",
       "      <td>3</td>\n",
       "      <td>3</td>\n",
       "      <td>NaN</td>\n",
       "      <td>NaN</td>\n",
       "    </tr>\n",
       "  </tbody>\n",
       "</table>\n",
       "</div>"
      ],
      "text/plain": [
       "       Date State   Age Age bracket  Gender                   Place  \\\n",
       "0  01/03/20    WA  78.0         70s    Male                   Perth   \n",
       "1  04/03/20   NSW  95.0         90s  Female  Macquarie Park, Sydney   \n",
       "2  08/03/20   NSW  82.0         80s    Male                     NaN   \n",
       "3  13/03/20   QLD  77.0         70s  Female    Sunshine Coast woman   \n",
       "4  15/03/20   NSW  77.0         70s  Female                  Sydney   \n",
       "\n",
       "        Transmission type                         Transmission source  \\\n",
       "0  Overseas (cruise ship)              Cruise ship (Diamond Princess)   \n",
       "1   Local - Known Contact  Dorothy Henderson Lodge aged care facility   \n",
       "2                     NaN                                         NaN   \n",
       "3   Local - Known Contact                       Local - Known Contact   \n",
       "4                Overseas                                         NaN   \n",
       "\n",
       "  Co-morbidities National toll number State-reported toll - NSW  \\\n",
       "0            NaN                    1                       NaN   \n",
       "1            NaN                    2                         1   \n",
       "2            NaN                    3                         2   \n",
       "3            Yes                    4                       NaN   \n",
       "4            NaN                    6                         3   \n",
       "\n",
       "  Fed reported state toll - NSW State-reported toll - VIC  \\\n",
       "0                           NaN                       NaN   \n",
       "1                             1                       NaN   \n",
       "2                             2                       NaN   \n",
       "3                           NaN                       NaN   \n",
       "4                             3                       NaN   \n",
       "\n",
       "  State-reported toll - QLD  \n",
       "0                       NaN  \n",
       "1                       NaN  \n",
       "2                       NaN  \n",
       "3  1 (QLD - Died in Sydney)  \n",
       "4                       NaN  "
      ]
     },
     "execution_count": 7,
     "metadata": {},
     "output_type": "execute_result"
    }
   ],
   "source": [
    "column = ['Date', 'State', 'Age_bracket', 'Gender', 'Place', 'State-reported_toll-NSW']\n",
    "CovidDeath.head()"
   ]
  },
  {
   "cell_type": "code",
   "execution_count": 8,
   "id": "7a25621f",
   "metadata": {},
   "outputs": [
    {
     "data": {
      "text/plain": [
       "Date                             1407\n",
       "State                            1407\n",
       "Age                                78\n",
       "Age bracket                      1383\n",
       "Gender                           1383\n",
       "Place                             161\n",
       "Transmission type                  76\n",
       "Transmission source               736\n",
       "Co-morbidities                     24\n",
       "National toll number             1314\n",
       "State-reported toll - NSW         409\n",
       "Fed reported state toll - NSW     408\n",
       "State-reported toll - VIC         867\n",
       "State-reported toll - QLD           7\n",
       "dtype: int64"
      ]
     },
     "execution_count": 8,
     "metadata": {},
     "output_type": "execute_result"
    }
   ],
   "source": [
    "CovidDeath.count()"
   ]
  },
  {
   "cell_type": "code",
   "execution_count": 10,
   "id": "f86fc1a6",
   "metadata": {},
   "outputs": [
    {
     "name": "stdout",
     "output_type": "stream",
     "text": [
      "males df shape: (666, 14)\n",
      "females df shape: (623, 14)\n",
      "males_high df shape: (0, 14)\n",
      "females_high df shape: (0, 14)\n"
     ]
    }
   ],
   "source": [
    "males = CovidDeath[CovidDeath.Gender == \"Male\"]\n",
    "females = CovidDeath[CovidDeath.Gender == \"Female\"]\n",
    "males_high = CovidDeath[(CovidDeath.Gender == \"Male\") & (CovidDeath.Age == '>50')]\n",
    "females_high = CovidDeath[(CovidDeath.Gender == \"Female\") & (CovidDeath.Age == '>50')]\n",
    "print(\"males df shape:\", males.shape)\n",
    "print(\"females df shape:\", females.shape)\n",
    "print(\"males_high df shape:\", males_high.shape)\n",
    "print(\"females_high df shape:\", females_high.shape)\n"
   ]
  },
  {
   "cell_type": "code",
   "execution_count": 11,
   "id": "be6a58ed",
   "metadata": {},
   "outputs": [
    {
     "name": "stdout",
     "output_type": "stream",
     "text": [
      "males df => mean: 77.4 median: 79.5 std: 13.86713510056911\n",
      "females df => mean: 81.73684210526316 median: 84.5 std: 12.091283906803941\n",
      "males_high df => mean: nan median: nan std: nan\n",
      "females_high df => mean: nan median: nan std: nan\n"
     ]
    }
   ],
   "source": [
    "print(\"males df =>\", \"mean:\", males.Age.mean(),\"median:\", males.Age.median(),\"std:\", males.Age.std())\n",
    "print(\"females df =>\", \"mean:\", females.Age.mean(),\"median:\", females.Age.median(),\"std:\", females.Age.std())\n",
    "print(\"males_high df =>\", \"mean:\", males_high.Age.mean(), \"median:\", males_high.Age.median(), \"std:\", males_high.Age.std())\n",
    "print(\"females_high df =>\", \"mean:\", females_high.Age.mean(), \"median:\", females_high.Age.median(), \"std:\", females_high.Age.std())"
   ]
  },
  {
   "cell_type": "code",
   "execution_count": 13,
   "id": "4c98a5d0",
   "metadata": {},
   "outputs": [
    {
     "data": {
      "text/plain": [
       "<AxesSubplot:>"
      ]
     },
     "execution_count": 13,
     "metadata": {},
     "output_type": "execute_result"
    },
    {
     "data": {
      "image/png": "[encoded data removed]",
      "text/plain": [
       "<Figure size 432x288 with 1 Axes>"
      ]
     },
     "metadata": {
      "needs_background": "light"
     },
     "output_type": "display_data"
    }
   ],
   "source": [
    "males['Age'].hist(density = None, histtype = \"stepfilled\",bins = 20)\n",
    "females['Age'].hist(density = None, histtype = \"stepfilled\",bins = 20)"
   ]
  },
  {
   "cell_type": "markdown",
   "id": "d0d07a3c",
   "metadata": {},
   "source": [
    "### Outliers"
   ]
  },
  {
   "cell_type": "code",
   "execution_count": 23,
   "id": "b3af4c27",
   "metadata": {},
   "outputs": [
    {
     "name": "stdout",
     "output_type": "stream",
     "text": [
      "0\n",
      "67\n",
      "2\n",
      "0\n"
     ]
    }
   ],
   "source": [
    "print( len( CovidDeath[(CovidDeath.Age == '>50')] ))\n",
    "print( len( CovidDeath[(CovidDeath.Age > 70)] ))\n",
    "print( len( CovidDeath[(CovidDeath.Age < 45)] ))\n",
    "print( len( CovidDeath[(CovidDeath.Age == '>50')  & ((CovidDeath.Age > 70) | (CovidDeath.Age < 45))]))"
   ]
  },
  {
   "cell_type": "code",
   "execution_count": 25,
   "id": "635b4613",
   "metadata": {},
   "outputs": [
    {
     "name": "stdout",
     "output_type": "stream",
     "text": [
      "cmales df: (666, 14)\n",
      "cfemales df: (623, 14)\n",
      "cmales_high df: (0, 14)\n",
      "cfemales_high df: (0, 14)\n"
     ]
    }
   ],
   "source": [
    "cmales = CovidDeath[CovidDeath.Gender == \"Male\"]\n",
    "cfemales = CovidDeath[CovidDeath.Gender == \"Female\"]\n",
    "cmales_high = cmales[cmales.Age == \">50\"]\n",
    "cfemales_high = cfemales[cfemales.Age == \">50\"]\n",
    "print(\"cmales df:\", cmales.shape)\n",
    "print(\"cfemales df:\", cfemales.shape)\n",
    "print(\"cmales_high df:\", cmales_high.shape)\n",
    "print(\"cfemales_high df:\", cfemales_high.shape)"
   ]
  },
  {
   "cell_type": "code",
   "execution_count": 26,
   "id": "239a1c9c",
   "metadata": {},
   "outputs": [
    {
     "name": "stdout",
     "output_type": "stream",
     "text": [
      "males df => mean: 77.4 median: 79.5 std: 13.86713510056911\n",
      "females df => mean: 81.73684210526316 median: 84.5 std: 12.091283906803941\n",
      "males_high df => mean: nan median: nan std: nan\n",
      "females_high df => mean: nan median: nan std: nan\n"
     ]
    }
   ],
   "source": [
    "print(\"males df =>\", \"mean:\", males.Age.mean(), \"median:\", males.Age.median(),\"std:\", males.Age.std())\n",
    "print(\"females df =>\", \"mean:\", females.Age.mean(), \"median:\", females.Age.median(),\"std:\", females.Age.std())\n",
    "print(\"males_high df =>\", \"mean:\", males_high.Age.mean(), \"median:\", males_high.Age.median(), \"std:\", males_high.Age.std())\n",
    "print(\"females_high df =>\", \"mean:\", females_high.Age.mean(), \"median:\", females_high.Age.median(), \"std:\", females_high.Age.std())"
   ]
  },
  {
   "cell_type": "code",
   "execution_count": 28,
   "id": "d6b4d538",
   "metadata": {},
   "outputs": [
    {
     "name": "stderr",
     "output_type": "stream",
     "text": [
      "D:\\anaconda\\lib\\site-packages\\numpy\\lib\\histograms.py:905: RuntimeWarning: invalid value encountered in true_divide\n",
      "  return n/db/n.sum(), bin_edges\n"
     ]
    },
    {
     "data": {
      "text/plain": [
       "Text(0, 0.5, 'Difference')"
      ]
     },
     "execution_count": 28,
     "metadata": {},
     "output_type": "execute_result"
    },
    {
     "data": {
      "image/png": "[encoded data removed]",
      "text/plain": [
       "<Figure size 432x288 with 1 Axes>"
      ]
     },
     "metadata": {
      "needs_background": "light"
     },
     "output_type": "display_data"
    }
   ],
   "source": [
    "countx, divisionx = np.histogram(cmales_high.Age, density = True)\n",
    "county, divisiony = np.histogram(cfemales_high.Age, density = True)\n",
    "val = [( divisionx[i] + divisionx[i+1]) /2 for i in range(len(divisionx)-1)]\n",
    "plt.plot(val, countx - county, 'o-')\n",
    "plt.title(\"Differences in COVID Death for men VS women\")\n",
    "plt.xlabel(\"Age\")\n",
    "plt.ylabel(\"Difference\")"
   ]
  },
  {
   "cell_type": "code",
   "execution_count": null,
   "id": "98aef494",
   "metadata": {},
   "outputs": [],
   "source": []
  }
 ],
 "metadata": {
  "kernelspec": {
   "display_name": "Python 3",
   "language": "python",
   "name": "python3"
  },
  "language_info": {
   "codemirror_mode": {
    "name": "ipython",
    "version": 3
   },
   "file_extension": ".py",
   "mimetype": "text/x-python",
   "name": "python",
   "nbconvert_exporter": "python",
   "pygments_lexer": "ipython3",
   "version": "3.8.8"
  }
 },
 "nbformat": 4,
 "nbformat_minor": 5
}
